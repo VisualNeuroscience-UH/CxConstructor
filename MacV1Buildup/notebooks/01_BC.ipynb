{
 "cells": [
  {
   "cell_type": "code",
   "execution_count": 1,
   "metadata": {},
   "outputs": [],
   "source": [
    "import cxsystem2.neurodynlib as nd\n",
    "from brian2.units import *\n",
    "import brian2 as b2\n",
    "import matplotlib.pyplot as plt\n",
    "import numpy as np\n",
    "from scipy.optimize import curve_fit\n",
    "\n",
    "b2.codegen.target = 'numpy'"
   ]
  },
  {
   "cell_type": "markdown",
   "metadata": {},
   "source": [
    "## Creating a neuron"
   ]
  },
  {
   "cell_type": "code",
   "execution_count": 2,
   "metadata": {},
   "outputs": [],
   "source": [
    "x = nd.EifNeuron()  # try also with: EifNeuron, AdexNeuron, HodgkinHuxleyNeuron"
   ]
  },
  {
   "cell_type": "code",
   "execution_count": 3,
   "metadata": {},
   "outputs": [
    {
     "data": {
      "text/latex": [
       "\\begin{align*}\\frac{\\mathrm{d}vm}{\\mathrm{d}t} &= \\frac{DeltaT gL e^{\\frac{- VT + vm}{DeltaT}} + gL \\left(EL - vm\\right)}{C} && \\text{(unit of $vm$: $\\mathrm{V}$, flags: unless refractory)}\\end{align*}"
      ],
      "text/plain": [
       "dvm/dt = (DeltaT*gL*exp((-VT + vm)/DeltaT) + gL*(EL - vm))/C : volt (unless refractory)\n"
      ]
     },
     "execution_count": 3,
     "metadata": {},
     "output_type": "execute_result"
    }
   ],
   "source": [
    "x.get_neuron_equations()"
   ]
  },
  {
   "cell_type": "markdown",
   "metadata": {},
   "source": [
    "## Changing neuron parameters"
   ]
  },
  {
   "cell_type": "code",
   "execution_count": 4,
   "metadata": {},
   "outputs": [],
   "source": [
    "x.set_neuron_parameters(C=.6 * nfarad,\n",
    "                        gL=50. * nsiemens,\n",
    "                        EL=-62 * mV,\n",
    "                        Vcut=-30. * mvolt,\n",
    "                        VT=-45. * mvolt, \n",
    "                        DeltaT=2. * mvolt,\n",
    "                        V_res=-60. * mvolt)"
   ]
  },
  {
   "cell_type": "code",
   "execution_count": 5,
   "metadata": {},
   "outputs": [],
   "source": [
    "x.neuron_name = 'BC'"
   ]
  },
  {
   "cell_type": "markdown",
   "metadata": {},
   "source": [
    "\n",
    "## f-I curves"
   ]
  },
  {
   "cell_type": "markdown",
   "metadata": {},
   "source": [
    "Schwabe target function"
   ]
  },
  {
   "cell_type": "code",
   "execution_count": 6,
   "metadata": {},
   "outputs": [],
   "source": [
    "def frFunc(input_currents,a,b,deltaI):\n",
    "    y = np.piecewise(input_currents, [input_currents < deltaI, input_currents >= deltaI], \n",
    "                     [lambda input_currents: 0, \n",
    "                      lambda input_currents: a*(input_currents - deltaI) \n",
    "                      + b*(input_currents - deltaI)**2])\n",
    "    return y\n",
    "\n",
    "x.fI_target = {'a':131,'b':-28,'deltaI':0.7} # Target parameters"
   ]
  },
  {
   "cell_type": "code",
   "execution_count": 7,
   "metadata": {},
   "outputs": [
    {
     "name": "stdout",
     "output_type": "stream",
     "text": [
      "a = 200.06, b = -313.50, deltaI = 0.73\n"
     ]
    },
    {
     "data": {
      "image/png": "[encoded data removed]",
      "text/plain": [
       "<Figure size 432x288 with 1 Axes>"
      ]
     },
     "metadata": {
      "needs_background": "light"
     },
     "output_type": "display_data"
    }
   ],
   "source": [
    "steps, counts = x.plot_fi_curve(plot=False)\n",
    "steps_array = steps/nA\n",
    "counts_array =  counts[:]\n",
    "plt.plot(steps_array, counts_array, 'b-', label='f-I curve')\n",
    "popt, pcov = curve_fit(frFunc, steps_array, counts_array, bounds=([0, -np.inf, 0], \n",
    "                                                                  [np.inf, np.inf, 1]))\n",
    "plt.plot(steps_array, frFunc(steps_array, *popt), 'r-')\n",
    "print(f'a = {popt[0]:.2f}, b = {popt[1]:.2f}, deltaI = {popt[2]:.2f}')\n",
    "popt = np.array([x.fI_target['a'], x.fI_target['b'], x.fI_target['deltaI']])\n",
    "plt.plot(steps_array, frFunc(steps_array, *popt), 'g-')\n",
    "plt.show()"
   ]
  },
  {
   "cell_type": "code",
   "execution_count": 9,
   "metadata": {},
   "outputs": [
    {
     "name": "stdout",
     "output_type": "stream",
     "text": [
      "arrayrun folder not found. Make sure the path is correct.\r\n"
     ]
    }
   ],
   "source": [
    "!cxvisualize --sampling-rate=50% --rasterplot-pdf \\\n",
    "    C:\\Users\\Simo\\Laskenta\\Models\\SchwabeModel\\build/ 20200103_0522225"
   ]
  }
 ],
 "metadata": {
  "kernelspec": {
   "display_name": "Python 3",
   "language": "python",
   "name": "python3"
  },
  "language_info": {
   "codemirror_mode": {
    "name": "ipython",
    "version": 3
   },
   "file_extension": ".py",
   "mimetype": "text/x-python",
   "name": "python",
   "nbconvert_exporter": "python",
   "pygments_lexer": "ipython3",
   "version": "3.7.6"
  }
 },
 "nbformat": 4,
 "nbformat_minor": 1
}
